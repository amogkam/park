{
 "cells": [
  {
   "cell_type": "code",
   "execution_count": 8,
   "metadata": {},
   "outputs": [],
   "source": [
    "%load_ext autoreload"
   ]
  },
  {
   "cell_type": "code",
   "execution_count": 9,
   "metadata": {},
   "outputs": [],
   "source": [
    "%autoreload 2"
   ]
  },
  {
   "cell_type": "code",
   "execution_count": 11,
   "metadata": {},
   "outputs": [],
   "source": [
    "import gym"
   ]
  },
  {
   "cell_type": "code",
   "execution_count": 84,
   "metadata": {},
   "outputs": [],
   "source": [
    "from stable_baselines.common.policies import MlpPolicy\n",
    "from stable_baselines.common.vec_env import DummyVecEnv\n",
    "from stable_baselines import PPO2\n",
    "from stable_baselines import A2C\n",
    "from stable_baselines import DQN"
   ]
  },
  {
   "cell_type": "code",
   "execution_count": 85,
   "metadata": {},
   "outputs": [],
   "source": [
    "import park"
   ]
  },
  {
   "cell_type": "code",
   "execution_count": 86,
   "metadata": {},
   "outputs": [
    {
     "name": "stderr",
     "output_type": "stream",
     "text": [
      "INFO:root:Making new env cache\n"
     ]
    },
    {
     "name": "stdout",
     "output_type": "stream",
     "text": [
      "Load #0 trace for cache size of 1024\n"
     ]
    }
   ],
   "source": [
    "env = park.make('cache')"
   ]
  },
  {
   "cell_type": "code",
   "execution_count": 82,
   "metadata": {},
   "outputs": [],
   "source": [
    "#env = DummyVecEnv([lambda: env])"
   ]
  },
  {
   "cell_type": "code",
   "execution_count": 89,
   "metadata": {},
   "outputs": [],
   "source": [
    "model = DQN('MlpPolicy', env, learning_rate=1e-3, prioritized_replay=True, verbose=2)"
   ]
  },
  {
   "cell_type": "code",
   "execution_count": null,
   "metadata": {},
   "outputs": [
    {
     "name": "stdout",
     "output_type": "stream",
     "text": [
      "env.reset called\n",
      "caller name: learn\n",
      "615\n",
      "Load #615 trace for cache size of 1024\n",
      "New Env Start 615\n",
      "env.reset called\n",
      "caller name: learn\n",
      "122\n",
      "Load #122 trace for cache size of 1024\n",
      "New Env Start 122\n",
      "env.reset called\n",
      "caller name: learn\n",
      "467\n",
      "Load #467 trace for cache size of 1024\n",
      "New Env Start 467\n",
      "env.reset called\n",
      "caller name: learn\n",
      "215\n",
      "Load #215 trace for cache size of 1024\n",
      "New Env Start 215\n",
      "env.reset called\n",
      "caller name: learn\n",
      "331\n",
      "Load #331 trace for cache size of 1024\n",
      "New Env Start 331\n",
      "env.reset called\n",
      "caller name: learn\n",
      "459\n",
      "Load #459 trace for cache size of 1024\n",
      "New Env Start 459\n",
      "env.reset called\n",
      "caller name: learn\n",
      "88\n",
      "Load #88 trace for cache size of 1024\n",
      "New Env Start 88\n",
      "env.reset called\n",
      "caller name: learn\n",
      "373\n",
      "Load #373 trace for cache size of 1024\n",
      "New Env Start 373\n",
      "env.reset called\n",
      "caller name: learn\n",
      "100\n",
      "Load #100 trace for cache size of 1024\n",
      "New Env Start 100\n",
      "env.reset called\n",
      "caller name: learn\n",
      "872\n",
      "Load #872 trace for cache size of 1024\n",
      "New Env Start 872\n",
      "env.reset called\n",
      "caller name: learn\n",
      "664\n",
      "Load #664 trace for cache size of 1024\n",
      "New Env Start 664\n",
      "env.reset called\n",
      "caller name: learn\n",
      "131\n",
      "Load #131 trace for cache size of 1024\n",
      "New Env Start 131\n",
      "env.reset called\n",
      "caller name: learn\n",
      "662\n",
      "Load #662 trace for cache size of 1024\n",
      "New Env Start 662\n",
      "env.reset called\n",
      "caller name: learn\n",
      "309\n",
      "Load #309 trace for cache size of 1024\n",
      "New Env Start 309\n",
      "env.reset called\n",
      "caller name: learn\n",
      "770\n",
      "Load #770 trace for cache size of 1024\n",
      "New Env Start 770\n"
     ]
    }
   ],
   "source": [
    "model.learn(total_timesteps=100000)"
   ]
  },
  {
   "cell_type": "code",
   "execution_count": 91,
   "metadata": {},
   "outputs": [
    {
     "name": "stdout",
     "output_type": "stream",
     "text": [
      "env.reset called\n",
      "caller name: <module>\n",
      "271\n",
      "Load #271 trace for cache size of 1024\n",
      "New Env Start 271\n"
     ]
    }
   ],
   "source": [
    "obs = env.reset()"
   ]
  },
  {
   "cell_type": "code",
   "execution_count": 96,
   "metadata": {},
   "outputs": [],
   "source": [
    "def evaluate(model, num_steps=1000):\n",
    "    episode_rewards = [0.0]\n",
    "    #env = park.make('Cache')\n",
    "    obs = env.reset()\n",
    "    for i in range(num_steps):\n",
    "        # _states are only useful when using LSTM policies\n",
    "        action, _states = model.predict(obs)\n",
    "        # here, action, rewards and dones are arrays\n",
    "        # because we are using vectorized env\n",
    "        obs, reward, done, info = env.step(action)\n",
    "        #print(obs, rewards, dones, info)\n",
    "      \n",
    "        # Stats\n",
    "        episode_rewards[-1] += reward\n",
    "        if done:\n",
    "            obs = env.reset()\n",
    "            episode_rewards.append(0.0)\n",
    "    # Compute mean reward for the last 100 episodes\n",
    "    mean_100ep_reward = round(np.mean(episode_rewards[-100:]), 1)\n",
    "    print(\"Mean reward:\", mean_100ep_reward, \"Num episodes:\", len(episode_rewards))\n",
    "  \n",
    "    return mean_100ep_reward"
   ]
  },
  {
   "cell_type": "code",
   "execution_count": 97,
   "metadata": {},
   "outputs": [
    {
     "name": "stdout",
     "output_type": "stream",
     "text": [
      "env.reset called\n",
      "caller name: evaluate\n",
      "701\n",
      "Load #701 trace for cache size of 1024\n",
      "New Env Start 701\n",
      "env.reset called\n",
      "caller name: evaluate\n",
      "21\n",
      "Load #21 trace for cache size of 1024\n",
      "New Env Start 21\n",
      "Mean reward: 4452.0 Num episodes: 2\n"
     ]
    },
    {
     "data": {
      "text/plain": [
       "4452.0"
      ]
     },
     "execution_count": 97,
     "metadata": {},
     "output_type": "execute_result"
    }
   ],
   "source": [
    "evaluate(model, num_steps=10000)"
   ]
  },
  {
   "cell_type": "code",
   "execution_count": 63,
   "metadata": {},
   "outputs": [],
   "source": [
    "import numpy as np"
   ]
  },
  {
   "cell_type": "code",
   "execution_count": null,
   "metadata": {},
   "outputs": [],
   "source": [
    "class AdmitAllAgent(object):\n",
    "    def __init__(self, *args, **kwargs):\n",
    "\n",
    "    def predict(self, obs):\n",
    "        return 1, None"
   ]
  }
 ],
 "metadata": {
  "kernelspec": {
   "display_name": "Python 3",
   "language": "python",
   "name": "python3"
  },
  "language_info": {
   "codemirror_mode": {
    "name": "ipython",
    "version": 3
   },
   "file_extension": ".py",
   "mimetype": "text/x-python",
   "name": "python",
   "nbconvert_exporter": "python",
   "pygments_lexer": "ipython3",
   "version": "3.5.6"
  }
 },
 "nbformat": 4,
 "nbformat_minor": 2
}
